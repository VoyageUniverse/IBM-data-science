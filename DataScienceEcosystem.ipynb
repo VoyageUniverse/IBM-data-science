{
 "cells": [
  {
   "cell_type": "markdown",
   "id": "3186de1a-fe88-4518-a59e-325a3fa1514e",
   "metadata": {},
   "source": [
    "# Data Science Tools and Ecosystem"
   ]
  },
  {
   "cell_type": "markdown",
   "id": "7bdf625e-6f3d-4c82-97b7-d14477793ecf",
   "metadata": {},
   "source": [
    "In this notebook, Data Science Tools and Ecosystem are summarized."
   ]
  },
  {
   "cell_type": "markdown",
   "id": "b269519d-fc38-4279-bd52-cd0334d494ef",
   "metadata": {},
   "source": [
    "**objectives:**\n",
    "- Jupyter Lab\n",
    "- Python\n",
    "- Rstudio"
   ]
  },
  {
   "cell_type": "markdown",
   "id": "bec8c043-5e03-49ec-b594-8eab193d9f43",
   "metadata": {},
   "source": [
    "Some of the popular languages that Data Scientists use are:\n",
    "1. Python\n",
    "2. R\n",
    "3. SQL"
   ]
  },
  {
   "cell_type": "markdown",
   "id": "dc84e4de-a866-499a-a3c7-5e28a4642b21",
   "metadata": {},
   "source": [
    "Some of the commonly used libraries used by Data Scientists include:\n",
    "1. Numpy\n",
    "2. Pandas\n",
    "3. Matplotlib"
   ]
  },
  {
   "cell_type": "markdown",
   "id": "e644eeea-4318-4d2b-aa58-8fd08bd58830",
   "metadata": {},
   "source": [
    "|Data Science Tools|\n",
    "|------|\n",
    "|RStudio|\n",
    "|Apache Spark|\n",
    "|Apache Hadoop|"
   ]
  },
  {
   "cell_type": "markdown",
   "id": "c4b21551-787f-48b0-ab30-e9ecc293f6b0",
   "metadata": {},
   "source": [
    "### Below are a few examples of evaluating arithmetic expressions in Python"
   ]
  },
  {
   "cell_type": "markdown",
   "id": "fc5e1369-deb4-4bee-a0a6-d46a5a6da635",
   "metadata": {},
   "source": [
    "This a simple arithmetic expression to mutiply then add integersm"
   ]
  },
  {
   "cell_type": "code",
   "execution_count": 3,
   "id": "7b6ee5d0-4226-4040-a671-978f68f82b5e",
   "metadata": {},
   "outputs": [
    {
     "data": {
      "text/plain": [
       "17"
      ]
     },
     "execution_count": 3,
     "metadata": {},
     "output_type": "execute_result"
    }
   ],
   "source": [
    "(3*4)+5"
   ]
  },
  {
   "cell_type": "markdown",
   "id": "6415ca4b-c5ad-4977-aef6-19b2aa9802f2",
   "metadata": {},
   "source": [
    "This will convert 200 minutes to hours by diving by 60"
   ]
  },
  {
   "cell_type": "code",
   "execution_count": 5,
   "id": "915ce972-ae46-45c7-a980-0b5e62216c11",
   "metadata": {},
   "outputs": [
    {
     "name": "stdout",
     "output_type": "stream",
     "text": [
      "3.3333333333333335 hours\n"
     ]
    }
   ],
   "source": [
    "print(200/60, 'hours')"
   ]
  },
  {
   "cell_type": "markdown",
   "id": "4d18b675-4dd5-4886-b580-c455d0bd5626",
   "metadata": {},
   "source": [
    "## Author\n",
    "Yuanzhi Weng"
   ]
  }
 ],
 "metadata": {
  "kernelspec": {
   "display_name": "Python 3 (ipykernel)",
   "language": "python",
   "name": "python3"
  },
  "language_info": {
   "codemirror_mode": {
    "name": "ipython",
    "version": 3
   },
   "file_extension": ".py",
   "mimetype": "text/x-python",
   "name": "python",
   "nbconvert_exporter": "python",
   "pygments_lexer": "ipython3",
   "version": "3.12.7"
  }
 },
 "nbformat": 4,
 "nbformat_minor": 5
}
